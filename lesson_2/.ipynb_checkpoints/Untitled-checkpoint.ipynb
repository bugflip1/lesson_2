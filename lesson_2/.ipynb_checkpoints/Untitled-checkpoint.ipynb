{
 "cells": [
  {
   "cell_type": "code",
   "execution_count": 2,
   "id": "c735f843-192d-43bd-9334-4b5621a01218",
   "metadata": {},
   "outputs": [
    {
     "name": "stdout",
     "output_type": "stream",
     "text": [
      "florvexdranoxmerviczintoraplomexquorlimvexoratrindelglarithskelphorzarnithbrovexflindortromulevexidongrithorplazmorskelmixdravunequinfel\n"
     ]
    }
   ],
   "source": [
    "def conc(strnglist):\n",
    "    final = ''\n",
    "    for item in strnglist:\n",
    "        final += item\n",
    "    return final\n",
    "\n",
    "random_words = [\n",
    "    \"florvex\",\n",
    "    \"dranox\",\n",
    "    \"mervic\",\n",
    "    \"zintora\",\n",
    "    \"plomex\",\n",
    "    \"quorlim\",\n",
    "    \"vexora\",\n",
    "    \"trindel\",\n",
    "    \"glarith\",\n",
    "    \"skelphor\",\n",
    "    \"zarnith\",\n",
    "    \"brovex\",\n",
    "    \"flindor\",\n",
    "    \"tromule\",\n",
    "    \"vexidon\",\n",
    "    \"grithor\",\n",
    "    \"plazmor\",\n",
    "    \"skelmix\",\n",
    "    \"dravune\",\n",
    "    \"quinfel\"\n",
    "]\n",
    "\n",
    "print(conc(random_words))"
   ]
  },
  {
   "cell_type": "code",
   "execution_count": 5,
   "id": "5f63d4a3-b40a-49f1-a06f-ddc40e04a31a",
   "metadata": {},
   "outputs": [
    {
     "name": "stdout",
     "output_type": "stream",
     "text": [
      "[57, 89, 76, 99, 65, 73, 8, 27, 16, 61]\n",
      "[0, 2, 4, 6, 8, 10, 12, 14, 16, 18, 20, 22, 24, 26, 28]\n"
     ]
    }
   ],
   "source": [
    "def everyother(origlist):\n",
    "    newlist = []\n",
    "    toggle = True\n",
    "    for item in origlist:\n",
    "        if toggle:\n",
    "            newlist.append(item)\n",
    "            toggle = False\n",
    "        else:\n",
    "            toggle = True\n",
    "    return newlist\n",
    "ranlist = [57, 23, 89, 41, 76, 12, 99, 4, 65, 38, 73, 92, 8, 34, 27, 50, 16, 82, 61, 29]\n",
    "rangelist = list(range(0,30))\n",
    "print(everyother(ranlist))\n",
    "print(everyother(rangelist))"
   ]
  },
  {
   "cell_type": "code",
   "execution_count": 10,
   "id": "322150c7-c844-492a-ab4e-5597ab7edcb2",
   "metadata": {},
   "outputs": [
    {
     "ename": "TypeError",
     "evalue": "replace() argument 2 must be str, not int",
     "output_type": "error",
     "traceback": [
      "\u001b[0;31m---------------------------------------------------------------------------\u001b[0m",
      "\u001b[0;31mTypeError\u001b[0m                                 Traceback (most recent call last)",
      "Cell \u001b[0;32mIn[10], line 28\u001b[0m\n\u001b[1;32m     26\u001b[0m \u001b[38;5;66;03m# Running the function for test cases\u001b[39;00m\n\u001b[1;32m     27\u001b[0m \u001b[38;5;28;01mfor\u001b[39;00m string, char \u001b[38;5;129;01min\u001b[39;00m test_cases:\n\u001b[0;32m---> 28\u001b[0m     result \u001b[38;5;241m=\u001b[39m \u001b[43mfind_third_occurance\u001b[49m\u001b[43m(\u001b[49m\u001b[43mstring\u001b[49m\u001b[43m,\u001b[49m\u001b[43m \u001b[49m\u001b[43mchar\u001b[49m\u001b[43m)\u001b[49m\n\u001b[1;32m     29\u001b[0m     \u001b[38;5;28mprint\u001b[39m(\u001b[38;5;124mf\u001b[39m\u001b[38;5;124m\"\u001b[39m\u001b[38;5;124mfind_third_occurrence(\u001b[39m\u001b[38;5;124m'\u001b[39m\u001b[38;5;132;01m{\u001b[39;00mstring\u001b[38;5;132;01m}\u001b[39;00m\u001b[38;5;124m'\u001b[39m\u001b[38;5;124m, \u001b[39m\u001b[38;5;124m'\u001b[39m\u001b[38;5;132;01m{\u001b[39;00mchar\u001b[38;5;132;01m}\u001b[39;00m\u001b[38;5;124m'\u001b[39m\u001b[38;5;124m) → \u001b[39m\u001b[38;5;132;01m{\u001b[39;00mresult\u001b[38;5;132;01m}\u001b[39;00m\u001b[38;5;124m\"\u001b[39m)\n",
      "Cell \u001b[0;32mIn[10], line 5\u001b[0m, in \u001b[0;36mfind_third_occurance\u001b[0;34m(string, character)\u001b[0m\n\u001b[1;32m      3\u001b[0m \u001b[38;5;28;01mif\u001b[39;00m character \u001b[38;5;241m==\u001b[39m replacer:\n\u001b[1;32m      4\u001b[0m     replacer \u001b[38;5;241m=\u001b[39m \u001b[38;5;124m'\u001b[39m\u001b[38;5;124m.\u001b[39m\u001b[38;5;124m'\u001b[39m\n\u001b[0;32m----> 5\u001b[0m \u001b[43mstring\u001b[49m\u001b[38;5;241;43m.\u001b[39;49m\u001b[43mreplace\u001b[49m\u001b[43m(\u001b[49m\u001b[38;5;124;43m'\u001b[39;49m\u001b[38;5;124;43mx\u001b[39;49m\u001b[38;5;124;43m'\u001b[39;49m\u001b[43m,\u001b[49m\u001b[43m \u001b[49m\u001b[38;5;241;43m2\u001b[39;49m\u001b[43m)\u001b[49m \n\u001b[1;32m      6\u001b[0m final \u001b[38;5;241m=\u001b[39m string\u001b[38;5;241m.\u001b[39mfind(\u001b[38;5;124m'\u001b[39m\u001b[38;5;124mx\u001b[39m\u001b[38;5;124m'\u001b[39m)\n\u001b[1;32m      7\u001b[0m \u001b[38;5;28;01mif\u001b[39;00m final \u001b[38;5;241m==\u001b[39m \u001b[38;5;241m-\u001b[39m\u001b[38;5;241m1\u001b[39m:\n",
      "\u001b[0;31mTypeError\u001b[0m: replace() argument 2 must be str, not int"
     ]
    }
   ],
   "source": [
    "def find_third_occurance(string, character):\n",
    "    replacer = ' '\n",
    "    if character == replacer:\n",
    "        replacer = '.'\n",
    "    string.replace('x', replacer, 2) \n",
    "    final = string.find('x')\n",
    "    if final == -1:\n",
    "        return None\n",
    "    else:\n",
    "        return final\n",
    "\n",
    "test_cases = [\n",
    "    (\"banana apple avocado\", \"a\"),  # Expected: 6\n",
    "    (\"programming in python\", \"n\"),  # Expected: 20\n",
    "    (\"mississippi river\", \"s\"),  # Expected: 5\n",
    "    (\"hello world\", \"o\"),  # Expected: None (only two 'o's)\n",
    "    (\"data science\", \"z\"),  # Expected: None (no 'z's)\n",
    "    (\"abracadabra\", \"d\"),  # Expected: None (only one 'd')\n",
    "    (\"a b c a d a e\", \"a\"),  # Expected: 6\n",
    "    (\"aaaabbbbcccc\", \"a\"),  # Expected: 2\n",
    "    (\"xxxyyyzzzxxx\", \"x\"),  # Expected: 2\n",
    "    (\"this is a test case with many characters in a test case\", \"t\"),  # Expected: 8\n",
    "    (\"supercalifragilisticexpialidocious\", \"i\")  # Expected: 13\n",
    "]\n",
    "\n",
    "# Running the function for test cases\n",
    "for string, char in test_cases:\n",
    "    result = find_third_occurance(string, char)\n",
    "    print(f\"find_third_occurrence('{string}', '{char}') → {result}\")\n"
   ]
  },
  {
   "cell_type": "code",
   "execution_count": null,
   "id": "160c30bb-ac58-46f4-b01b-743ae4f335d7",
   "metadata": {},
   "outputs": [],
   "source": []
  }
 ],
 "metadata": {
  "kernelspec": {
   "display_name": "Python 3 (ipykernel)",
   "language": "python",
   "name": "python3"
  },
  "language_info": {
   "codemirror_mode": {
    "name": "ipython",
    "version": 3
   },
   "file_extension": ".py",
   "mimetype": "text/x-python",
   "name": "python",
   "nbconvert_exporter": "python",
   "pygments_lexer": "ipython3",
   "version": "3.13.1"
  }
 },
 "nbformat": 4,
 "nbformat_minor": 5
}
